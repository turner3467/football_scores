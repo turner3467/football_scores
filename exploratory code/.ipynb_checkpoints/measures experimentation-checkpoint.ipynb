{
 "cells": [
  {
   "cell_type": "code",
   "execution_count": 10,
   "metadata": {
    "collapsed": true
   },
   "outputs": [],
   "source": [
    "import pandas as pd"
   ]
  },
  {
   "cell_type": "code",
   "execution_count": 15,
   "metadata": {
    "collapsed": true
   },
   "outputs": [],
   "source": [
    "measures = [\"Season\",\n",
    "            \"Div\",\n",
    "            \"Date\",\n",
    "            \"HomeTeam\",\n",
    "            \"AwayTeam\",\n",
    "            \"FTHG\",\n",
    "            \"FTAG\",\n",
    "            \"FTR\",\n",
    "            \"HTHG\",\n",
    "            \"HTAG\",\n",
    "            \"HTR\",\n",
    "            \"Attendance\",\n",
    "            \"Referee\",\n",
    "            \"HS\",\n",
    "            \"AS\",\n",
    "            \"HST\",\n",
    "            \"AST\",\n",
    "            \"HHW\",\n",
    "            \"AHW\",\n",
    "            \"HC\",\n",
    "            \"AC\",\n",
    "            \"HF\",\n",
    "            \"AF\",\n",
    "            \"HO\",\n",
    "            \"AO\",\n",
    "            \"HY\",\n",
    "            \"AY\",\n",
    "            \"HR\",\n",
    "            \"AR\",\n",
    "            \"HBP\",\n",
    "            \"ABP\"]"
   ]
  },
  {
   "cell_type": "code",
   "execution_count": 19,
   "metadata": {
    "collapsed": false
   },
   "outputs": [],
   "source": [
    "input_data = pd.read_csv(\"../data/processed/historical_scores.csv\", index_col=0)"
   ]
  },
  {
   "cell_type": "code",
   "execution_count": 20,
   "metadata": {
    "collapsed": false
   },
   "outputs": [],
   "source": [
    "input_data = input_data[measures]"
   ]
  },
  {
   "cell_type": "code",
   "execution_count": 21,
   "metadata": {
    "collapsed": false
   },
   "outputs": [
    {
     "data": {
      "text/plain": [
       "Season          int64\n",
       "Div            object\n",
       "Date           object\n",
       "HomeTeam       object\n",
       "AwayTeam       object\n",
       "FTHG          float64\n",
       "FTAG          float64\n",
       "FTR            object\n",
       "HTHG          float64\n",
       "HTAG          float64\n",
       "HTR            object\n",
       "Attendance    float64\n",
       "Referee        object\n",
       "HS            float64\n",
       "AS            float64\n",
       "HST           float64\n",
       "AST           float64\n",
       "HHW           float64\n",
       "AHW           float64\n",
       "HC            float64\n",
       "AC            float64\n",
       "HF            float64\n",
       "AF            float64\n",
       "HO            float64\n",
       "AO            float64\n",
       "HY            float64\n",
       "AY            float64\n",
       "HR            float64\n",
       "AR            float64\n",
       "HBP           float64\n",
       "ABP           float64\n",
       "dtype: object"
      ]
     },
     "execution_count": 21,
     "metadata": {},
     "output_type": "execute_result"
    }
   ],
   "source": [
    "input_data.dtypes"
   ]
  }
 ],
 "metadata": {
  "kernelspec": {
   "display_name": "Python 3",
   "language": "python",
   "name": "python3"
  },
  "language_info": {
   "codemirror_mode": {
    "name": "ipython",
    "version": 3
   },
   "file_extension": ".py",
   "mimetype": "text/x-python",
   "name": "python",
   "nbconvert_exporter": "python",
   "pygments_lexer": "ipython3",
   "version": "3.5.1"
  }
 },
 "nbformat": 4,
 "nbformat_minor": 0
}
