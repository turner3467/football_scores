{
 "cells": [
  {
   "cell_type": "code",
   "execution_count": 1,
   "metadata": {
    "collapsed": true
   },
   "outputs": [],
   "source": [
    "import os\n",
    "import numpy as np\n",
    "import pandas as pd"
   ]
  },
  {
   "cell_type": "code",
   "execution_count": 2,
   "metadata": {
    "collapsed": false
   },
   "outputs": [],
   "source": [
    "match_info = [\"Season\",\n",
    "              \"League\",\n",
    "              \"Date\",\n",
    "              \"HomeTeam\",\n",
    "              \"AwayTeam\"]\n",
    "match_statistics = [\"FTHG\",\n",
    "                    \"FTAG\",\n",
    "                    \"FTR\",\n",
    "                    \"HTHG\",\n",
    "                    \"HTAG\",\n",
    "                    \"HTR\",\n",
    "                    \"Attendance\",\n",
    "                    \"Referee\",\n",
    "                    \"HS\",\n",
    "                    \"AS\",\n",
    "                    \"HST\",\n",
    "                    \"AST\",\n",
    "                    \"HHW\",\n",
    "                    \"AHW\",\n",
    "                    \"HC\",\n",
    "                    \"AC\",\n",
    "                    \"HF\",\n",
    "                    \"AF\",\n",
    "                    \"HO\",\n",
    "                    \"AO\",\n",
    "                    \"HY\",\n",
    "                    \"AY\",\n",
    "                    \"HR\",\n",
    "                    \"AR\",\n",
    "                    \"HBP\",\n",
    "                    \"ABP\"]"
   ]
  },
  {
   "cell_type": "code",
   "execution_count": 3,
   "metadata": {
    "collapsed": false
   },
   "outputs": [],
   "source": [
    "def get_measures():\n",
    "    if os.path.isfile(\"../data/processed/measures.csv\"):\n",
    "        measures = pd.read_csv(\"../data/processed/measures.csv\")\n",
    "        measures.Date = pd.to_datetime(measures.Date)\n",
    "        return measures\n",
    "    else:\n",
    "        measures = pd.read_csv(\"../data/processed/historical_scores.csv\", index_col=0)\n",
    "        measures = measures[match_info]\n",
    "        measures.Date = pd.to_datetime(measures.Date)\n",
    "        measures = measures.reset_index()\n",
    "        measures.to_csv(\"../data/processed/measures.csv\")\n",
    "        return measures\n",
    "\n",
    "measures = get_measures()\n",
    "raw_data = pd.read_csv(\"../data/processed/historical_scores.csv\", index_col=0)\n",
    "raw_data = raw_data[match_info + match_statistics]\n",
    "raw_data.Date = pd.to_datetime(raw_data.Date)\n",
    "raw_data = raw_data.reset_index()"
   ]
  },
  {
   "cell_type": "code",
   "execution_count": 10,
   "metadata": {
    "collapsed": false
   },
   "outputs": [
    {
     "name": "stdout",
     "output_type": "stream",
     "text": [
      "1996-04-20 00:00:00 Torquay Chester\n"
     ]
    }
   ],
   "source": [
    "idx = 35000\n",
    "df = raw_data\n",
    "date, home_team, away_team = df.loc[idx, [\"Date\", \"HomeTeam\", \"AwayTeam\"]]\n",
    "\n",
    "row_filter = df.Date < date\n",
    "row_filter = row_filter & ((df.HomeTeam.isin([home_team, away_team])) |\n",
    "                           df.AwayTeam.isin([home_team, away_team]))\n",
    "\n",
    "print(date, home_team, away_team)\n",
    "df = df[row_filter]"
   ]
  },
  {
   "cell_type": "code",
   "execution_count": 15,
   "metadata": {
    "collapsed": false
   },
   "outputs": [
    {
     "name": "stdout",
     "output_type": "stream",
     "text": [
      "      HomeTeam AwayTeam FTR\n",
      "34973     Bury  Torquay   H\n",
      "1\n"
     ]
    }
   ],
   "source": [
    "team = home_team\n",
    "n_games = 1\n",
    "\n",
    "temp_df = df[(df.HomeTeam == team) | (df.AwayTeam == team)]\n",
    "temp_df = temp_df.sort_values(\"Date\", ascending=False).head(n_games)[[\"HomeTeam\", \"AwayTeam\", \"FTR\"]]\n",
    "print(temp_df)\n",
    "if len(temp_df) < n_games:\n",
    "    print(\"NaN\")\n",
    "else:\n",
    "    wins = ((temp_df.HomeTeam == team) & (temp_df.FTR == \"A\")) | \\\n",
    "           ((temp_df.AwayTeam == team) & (temp_df.FTR == \"H\"))\n",
    "    win_percent = wins.sum() / n_games\n",
    "    print(win_percent.astype(int))"
   ]
  }
 ],
 "metadata": {
  "kernelspec": {
   "display_name": "Python 3",
   "language": "python",
   "name": "python3"
  },
  "language_info": {
   "codemirror_mode": {
    "name": "ipython",
    "version": 3
   },
   "file_extension": ".py",
   "mimetype": "text/x-python",
   "name": "python",
   "nbconvert_exporter": "python",
   "pygments_lexer": "ipython3",
   "version": "3.5.1"
  }
 },
 "nbformat": 4,
 "nbformat_minor": 0
}
