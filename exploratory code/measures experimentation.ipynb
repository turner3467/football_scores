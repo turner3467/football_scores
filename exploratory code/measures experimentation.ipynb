{
 "cells": [
  {
   "cell_type": "code",
   "execution_count": 1,
   "metadata": {
    "collapsed": true
   },
   "outputs": [],
   "source": [
    "import numpy as np\n",
    "import pandas as pd"
   ]
  },
  {
   "cell_type": "code",
   "execution_count": 2,
   "metadata": {
    "collapsed": true
   },
   "outputs": [],
   "source": [
    "match_info = [\"Season\",\n",
    "              \"Div\",\n",
    "              \"Date\",\n",
    "              \"HomeTeam\",\n",
    "              \"AwayTeam\"]\n",
    "match_statistics = [\"FTHG\",\n",
    "                    \"FTAG\",\n",
    "                    \"FTR\",\n",
    "                    \"HTHG\",\n",
    "                    \"HTAG\",\n",
    "                    \"HTR\",\n",
    "                    \"Attendance\",\n",
    "                    \"Referee\",\n",
    "                    \"HS\",\n",
    "                    \"AS\",\n",
    "                    \"HST\",\n",
    "                    \"AST\",\n",
    "                    \"HHW\",\n",
    "                    \"AHW\",\n",
    "                    \"HC\",\n",
    "                    \"AC\",\n",
    "                    \"HF\",\n",
    "                    \"AF\",\n",
    "                    \"HO\",\n",
    "                    \"AO\",\n",
    "                    \"HY\",\n",
    "                    \"AY\",\n",
    "                    \"HR\",\n",
    "                    \"AR\",\n",
    "                    \"HBP\",\n",
    "                    \"ABP\"]"
   ]
  },
  {
   "cell_type": "code",
   "execution_count": 3,
   "metadata": {
    "collapsed": false
   },
   "outputs": [],
   "source": [
    "historical_scores = pd.read_csv(\"../data/processed/historical_scores.csv\", index_col=0)\n",
    "historical_scores = historical_scores[match_info + match_statistics]\n",
    "measures = historical_scores[match_info]"
   ]
  },
  {
   "cell_type": "code",
   "execution_count": 7,
   "metadata": {
    "collapsed": false
   },
   "outputs": [
    {
     "data": {
      "text/plain": [
       "Season       int64\n",
       "Div         object\n",
       "Date        object\n",
       "HomeTeam    object\n",
       "AwayTeam    object\n",
       "dtype: object"
      ]
     },
     "execution_count": 7,
     "metadata": {},
     "output_type": "execute_result"
    }
   ],
   "source": [
    "measures = historical_scores[match_info]\n",
    "measures.dtypes"
   ]
  },
  {
   "cell_type": "code",
   "execution_count": 11,
   "metadata": {
    "collapsed": false
   },
   "outputs": [
    {
     "name": "stderr",
     "output_type": "stream",
     "text": [
      "/home/jturner/anaconda3/lib/python3.5/site-packages/pandas/core/indexing.py:420: SettingWithCopyWarning: \n",
      "A value is trying to be set on a copy of a slice from a DataFrame.\n",
      "Try using .loc[row_indexer,col_indexer] = value instead\n",
      "\n",
      "See the caveats in the documentation: http://pandas.pydata.org/pandas-docs/stable/indexing.html#indexing-view-versus-copy\n",
      "  self.obj[item] = s\n"
     ]
    }
   ],
   "source": [
    "measures.loc[:,\"Date\"] = pd.to_datetime(measures[\"Date\"])"
   ]
  }
 ],
 "metadata": {
  "kernelspec": {
   "display_name": "Python 3",
   "language": "python",
   "name": "python3"
  },
  "language_info": {
   "codemirror_mode": {
    "name": "ipython",
    "version": 3
   },
   "file_extension": ".py",
   "mimetype": "text/x-python",
   "name": "python",
   "nbconvert_exporter": "python",
   "pygments_lexer": "ipython3",
   "version": "3.5.1"
  }
 },
 "nbformat": 4,
 "nbformat_minor": 0
}
