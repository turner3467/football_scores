{
 "cells": [
  {
   "cell_type": "code",
   "execution_count": 1,
   "metadata": {
    "collapsed": true
   },
   "outputs": [],
   "source": [
    "import os\n",
    "import numpy as np\n",
    "import pandas as pd"
   ]
  },
  {
   "cell_type": "code",
   "execution_count": 2,
   "metadata": {
    "collapsed": false
   },
   "outputs": [],
   "source": [
    "match_info = [\"Season\",\n",
    "              \"League\",\n",
    "              \"Date\",\n",
    "              \"HomeTeam\",\n",
    "              \"AwayTeam\"]\n",
    "match_statistics = [\"FTHG\",\n",
    "                    \"FTAG\",\n",
    "                    \"FTR\",\n",
    "                    \"HTHG\",\n",
    "                    \"HTAG\",\n",
    "                    \"HTR\",\n",
    "                    \"Attendance\",\n",
    "                    \"Referee\",\n",
    "                    \"HS\",\n",
    "                    \"AS\",\n",
    "                    \"HST\",\n",
    "                    \"AST\",\n",
    "                    \"HHW\",\n",
    "                    \"AHW\",\n",
    "                    \"HC\",\n",
    "                    \"AC\",\n",
    "                    \"HF\",\n",
    "                    \"AF\",\n",
    "                    \"HO\",\n",
    "                    \"AO\",\n",
    "                    \"HY\",\n",
    "                    \"AY\",\n",
    "                    \"HR\",\n",
    "                    \"AR\",\n",
    "                    \"HBP\",\n",
    "                    \"ABP\"]"
   ]
  },
  {
   "cell_type": "code",
   "execution_count": 13,
   "metadata": {
    "collapsed": false
   },
   "outputs": [],
   "source": [
    "def get_measures():\n",
    "    if os.path.isfile(\"../data/processed/measures.csv\"):\n",
    "        measures = pd.read_csv(\"../data/processed/measures.csv\")\n",
    "        measures.Date = pd.to_datetime(measures.Date)\n",
    "        return measures\n",
    "    else:\n",
    "        measures = pd.read_csv(\"../data/processed/historical_scores.csv\", index_col=0)\n",
    "        measures = measures[match_info]\n",
    "        measures.Date = pd.to_datetime(measures.Date)\n",
    "        measures = measures.reset_index()\n",
    "        measures.to_csv(\"../data/processed/measures.csv\")\n",
    "        return measures\n",
    "\n",
    "measures = get_measures()\n",
    "raw_data = pd.read_csv(\"../data/processed/historical_scores.csv\", index_col=0)\n",
    "raw_data = raw_data[match_info + match_statistics]\n",
    "raw_data.Date = pd.to_datetime(raw_data.Date)\n",
    "raw_data = raw_data.reset_index()"
   ]
  },
  {
   "cell_type": "code",
   "execution_count": 7,
   "metadata": {
    "collapsed": false
   },
   "outputs": [
    {
     "name": "stdout",
     "output_type": "stream",
     "text": [
      "1996-04-20 00:00:00 Torquay Chester\n"
     ]
    }
   ],
   "source": [
    "idx = 35000\n",
    "df = raw_data\n",
    "date, home_team, away_team = df.loc[idx, [\"Date\", \"HomeTeam\", \"AwayTeam\"]]\n",
    "\n",
    "row_filter = df.Date < date\n",
    "row_filter = row_filter & ((df.HomeTeam.isin([home_team, away_team])) |\n",
    "                           df.AwayTeam.isin([home_team, away_team]))\n",
    "\n",
    "print(date, home_team, away_team)\n",
    "df = df[row_filter]"
   ]
  },
  {
   "cell_type": "code",
   "execution_count": 14,
   "metadata": {
    "collapsed": false,
    "scrolled": true
   },
   "outputs": [
    {
     "data": {
      "text/html": [
       "<div>\n",
       "<table border=\"1\" class=\"dataframe\">\n",
       "  <thead>\n",
       "    <tr style=\"text-align: right;\">\n",
       "      <th></th>\n",
       "      <th>Unnamed: 0</th>\n",
       "      <th>index</th>\n",
       "      <th>Season</th>\n",
       "      <th>League</th>\n",
       "      <th>Date</th>\n",
       "      <th>HomeTeam</th>\n",
       "      <th>AwayTeam</th>\n",
       "    </tr>\n",
       "  </thead>\n",
       "  <tbody>\n",
       "    <tr>\n",
       "      <th>0</th>\n",
       "      <td>0</td>\n",
       "      <td>0</td>\n",
       "      <td>9394</td>\n",
       "      <td>2</td>\n",
       "      <td>1993-08-14</td>\n",
       "      <td>Barnsley</td>\n",
       "      <td>West Brom</td>\n",
       "    </tr>\n",
       "    <tr>\n",
       "      <th>1</th>\n",
       "      <td>1</td>\n",
       "      <td>1</td>\n",
       "      <td>9394</td>\n",
       "      <td>2</td>\n",
       "      <td>1993-08-14</td>\n",
       "      <td>Charlton</td>\n",
       "      <td>Birmingham</td>\n",
       "    </tr>\n",
       "    <tr>\n",
       "      <th>2</th>\n",
       "      <td>2</td>\n",
       "      <td>2</td>\n",
       "      <td>9394</td>\n",
       "      <td>2</td>\n",
       "      <td>1993-08-14</td>\n",
       "      <td>Crystal Palace</td>\n",
       "      <td>Tranmere</td>\n",
       "    </tr>\n",
       "    <tr>\n",
       "      <th>3</th>\n",
       "      <td>3</td>\n",
       "      <td>3</td>\n",
       "      <td>9394</td>\n",
       "      <td>2</td>\n",
       "      <td>1993-08-14</td>\n",
       "      <td>Derby</td>\n",
       "      <td>Sunderland</td>\n",
       "    </tr>\n",
       "    <tr>\n",
       "      <th>4</th>\n",
       "      <td>4</td>\n",
       "      <td>4</td>\n",
       "      <td>9394</td>\n",
       "      <td>2</td>\n",
       "      <td>1993-08-14</td>\n",
       "      <td>Grimsby</td>\n",
       "      <td>Bolton</td>\n",
       "    </tr>\n",
       "  </tbody>\n",
       "</table>\n",
       "</div>"
      ],
      "text/plain": [
       "   Unnamed: 0  index  Season  League       Date        HomeTeam    AwayTeam\n",
       "0           0      0    9394       2 1993-08-14        Barnsley   West Brom\n",
       "1           1      1    9394       2 1993-08-14        Charlton  Birmingham\n",
       "2           2      2    9394       2 1993-08-14  Crystal Palace    Tranmere\n",
       "3           3      3    9394       2 1993-08-14           Derby  Sunderland\n",
       "4           4      4    9394       2 1993-08-14         Grimsby      Bolton"
      ]
     },
     "execution_count": 14,
     "metadata": {},
     "output_type": "execute_result"
    }
   ],
   "source": [
    "measures.head()"
   ]
  },
  {
   "cell_type": "code",
   "execution_count": 17,
   "metadata": {
    "collapsed": false
   },
   "outputs": [
    {
     "data": {
      "text/html": [
       "<div>\n",
       "<table border=\"1\" class=\"dataframe\">\n",
       "  <thead>\n",
       "    <tr style=\"text-align: right;\">\n",
       "      <th></th>\n",
       "      <th>AwayTeam</th>\n",
       "      <th>Date</th>\n",
       "      <th>HomeTeam</th>\n",
       "      <th>League</th>\n",
       "      <th>Season</th>\n",
       "      <th>Unnamed: 0</th>\n",
       "      <th>index</th>\n",
       "      <th>test1</th>\n",
       "      <th>test2</th>\n",
       "    </tr>\n",
       "  </thead>\n",
       "  <tbody>\n",
       "    <tr>\n",
       "      <th>0</th>\n",
       "      <td>West Brom</td>\n",
       "      <td>1993-08-14</td>\n",
       "      <td>Barnsley</td>\n",
       "      <td>2</td>\n",
       "      <td>9394</td>\n",
       "      <td>0</td>\n",
       "      <td>0</td>\n",
       "      <td>NaN</td>\n",
       "      <td>NaN</td>\n",
       "    </tr>\n",
       "    <tr>\n",
       "      <th>1</th>\n",
       "      <td>Birmingham</td>\n",
       "      <td>1993-08-14</td>\n",
       "      <td>Charlton</td>\n",
       "      <td>2</td>\n",
       "      <td>9394</td>\n",
       "      <td>1</td>\n",
       "      <td>1</td>\n",
       "      <td>NaN</td>\n",
       "      <td>NaN</td>\n",
       "    </tr>\n",
       "    <tr>\n",
       "      <th>2</th>\n",
       "      <td>Tranmere</td>\n",
       "      <td>1993-08-14</td>\n",
       "      <td>Crystal Palace</td>\n",
       "      <td>2</td>\n",
       "      <td>9394</td>\n",
       "      <td>2</td>\n",
       "      <td>2</td>\n",
       "      <td>NaN</td>\n",
       "      <td>NaN</td>\n",
       "    </tr>\n",
       "    <tr>\n",
       "      <th>3</th>\n",
       "      <td>Sunderland</td>\n",
       "      <td>1993-08-14</td>\n",
       "      <td>Derby</td>\n",
       "      <td>2</td>\n",
       "      <td>9394</td>\n",
       "      <td>3</td>\n",
       "      <td>3</td>\n",
       "      <td>NaN</td>\n",
       "      <td>NaN</td>\n",
       "    </tr>\n",
       "    <tr>\n",
       "      <th>4</th>\n",
       "      <td>Bolton</td>\n",
       "      <td>1993-08-14</td>\n",
       "      <td>Grimsby</td>\n",
       "      <td>2</td>\n",
       "      <td>9394</td>\n",
       "      <td>4</td>\n",
       "      <td>4</td>\n",
       "      <td>NaN</td>\n",
       "      <td>NaN</td>\n",
       "    </tr>\n",
       "  </tbody>\n",
       "</table>\n",
       "</div>"
      ],
      "text/plain": [
       "     AwayTeam       Date        HomeTeam  League  Season  Unnamed: 0  index  \\\n",
       "0   West Brom 1993-08-14        Barnsley       2    9394           0      0   \n",
       "1  Birmingham 1993-08-14        Charlton       2    9394           1      1   \n",
       "2    Tranmere 1993-08-14  Crystal Palace       2    9394           2      2   \n",
       "3  Sunderland 1993-08-14           Derby       2    9394           3      3   \n",
       "4      Bolton 1993-08-14         Grimsby       2    9394           4      4   \n",
       "\n",
       "  test1 test2  \n",
       "0   NaN   NaN  \n",
       "1   NaN   NaN  \n",
       "2   NaN   NaN  \n",
       "3   NaN   NaN  \n",
       "4   NaN   NaN  "
      ]
     },
     "execution_count": 17,
     "metadata": {},
     "output_type": "execute_result"
    }
   ],
   "source": [
    "temp_df = pd.concat([measures, pd.DataFrame(columns=[\"test1\", \"test2\"])])\n",
    "temp_df.head()"
   ]
  }
 ],
 "metadata": {
  "kernelspec": {
   "display_name": "Python 3",
   "language": "python",
   "name": "python3"
  },
  "language_info": {
   "codemirror_mode": {
    "name": "ipython",
    "version": 3
   },
   "file_extension": ".py",
   "mimetype": "text/x-python",
   "name": "python",
   "nbconvert_exporter": "python",
   "pygments_lexer": "ipython3",
   "version": "3.5.1"
  }
 },
 "nbformat": 4,
 "nbformat_minor": 0
}
